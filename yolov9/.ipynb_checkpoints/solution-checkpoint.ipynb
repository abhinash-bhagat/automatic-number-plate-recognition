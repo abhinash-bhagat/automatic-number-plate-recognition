{
 "cells": [
  {
   "cell_type": "code",
   "execution_count": 5,
   "id": "0f900f62-71ec-4ca5-9540-5aeda0eab91d",
   "metadata": {},
   "outputs": [
    {
     "name": "stderr",
     "output_type": "stream",
     "text": [
      "\u001b[34m\u001b[1mdetect: \u001b[0mweights=['license-detector.pt'], source=test2.jpg, data=data\\coco128.yaml, imgsz=[640, 640], conf_thres=0.1, iou_thres=0.45, max_det=1000, device=, view_img=False, save_txt=False, save_conf=False, save_crop=False, nosave=False, classes=None, agnostic_nms=False, augment=False, visualize=False, update=False, project=runs\\detect, name=exp, exist_ok=False, line_thickness=3, hide_labels=False, hide_conf=False, half=False, dnn=False, vid_stride=1\n",
      "YOLO  2024-4-20 Python-3.8.19 torch-2.2.2+cpu CPU\n",
      "\n",
      "Fusing layers... \n",
      "yolov9-c summary: 604 layers, 50698278 parameters, 0 gradients, 236.6 GFLOPs\n",
      "image 1/1 C:\\Users\\bhaga\\Downloads\\ML\\automatic-number-plate-recognition\\yolov9\\test2.jpg: 384x640 1 License_Plate, 6208.7ms\n",
      "Speed: 3.0ms pre-process, 6208.7ms inference, 3.0ms NMS per image at shape (1, 3, 640, 640)\n",
      "Results saved to \u001b[1mruns\\detect\\exp4\u001b[0m\n"
     ]
    }
   ],
   "source": [
    "!python detect.py --conf 0.1 --weights license-detector.pt --source test2.jpg"
   ]
  },
  {
   "cell_type": "code",
   "execution_count": null,
   "id": "2081aa6f-1425-4fff-891f-4034e5e965ea",
   "metadata": {},
   "outputs": [],
   "source": [
    "from ultral"
   ]
  }
 ],
 "metadata": {
  "kernelspec": {
   "display_name": "Python 3 (ipykernel)",
   "language": "python",
   "name": "python3"
  },
  "language_info": {
   "codemirror_mode": {
    "name": "ipython",
    "version": 3
   },
   "file_extension": ".py",
   "mimetype": "text/x-python",
   "name": "python",
   "nbconvert_exporter": "python",
   "pygments_lexer": "ipython3",
   "version": "3.8.19"
  }
 },
 "nbformat": 4,
 "nbformat_minor": 5
}
